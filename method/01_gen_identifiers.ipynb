{
 "cells": [
  {
   "cell_type": "markdown",
   "metadata": {},
   "source": [
    "# Front Matter"
   ]
  },
  {
   "cell_type": "code",
   "execution_count": 4,
   "metadata": {
    "code_folding": [
     22,
     25,
     52,
     58
    ]
   },
   "outputs": [
    {
     "name": "stderr",
     "output_type": "stream",
     "text": [
      "<ipython-input-4-1240720fdb18>:5: FutureWarning: Passing a negative integer is deprecated in version 1.0 and will not be supported in future version. Instead, use None to not limit the column width.\n",
      "  pd.set_option('display.max_colwidth', -1)\n"
     ]
    },
    {
     "data": {
      "text/plain": [
       "DataTransformerRegistry.enable('json')"
      ]
     },
     "execution_count": 4,
     "metadata": {},
     "output_type": "execute_result"
    }
   ],
   "source": [
    "import tweepy \n",
    "import pandas as pd\n",
    "pd.options.display.max_columns = None\n",
    "pd.options.display.max_rows = 500\n",
    "pd.set_option('display.max_colwidth', -1)\n",
    "from identifiers_from_bio import *\n",
    "import numpy as np\n",
    "import umap\n",
    "import spacy\n",
    "from emoji import get_emoji_regexp\n",
    "import altair as alt\n",
    "from functools import partial\n",
    "from sklearn.cluster import SpectralClustering, DBSCAN\n",
    "alt.data_transformers.enable('json')\n",
    "\n",
    "import fasttext\n",
    "path_to_pretrained_model = 'lid.176.bin'\n",
    "fmodel = fasttext.load_model(path_to_pretrained_model)\n"
   ]
  },
  {
   "cell_type": "code",
   "execution_count": 57,
   "metadata": {},
   "outputs": [],
   "source": [
    "filename = \"panel_7_7_20.tsv\""
   ]
  },
  {
   "cell_type": "markdown",
   "metadata": {},
   "source": [
    "# Read in the data"
   ]
  },
  {
   "cell_type": "code",
   "execution_count": 58,
   "metadata": {},
   "outputs": [
    {
     "name": "stderr",
     "output_type": "stream",
     "text": [
      "/Users/kjoseph/opt/anaconda3/envs/myenv/lib/python3.8/site-packages/pandas/core/strings/accessor.py:101: UserWarning: This pattern has match groups. To actually get the groups, use str.extract.\n",
      "  return func(self, *args, **kwargs)\n"
     ]
    },
    {
     "name": "stdout",
     "output_type": "stream",
     "text": [
      "1646453 1191667\n",
      "1168779\n"
     ]
    }
   ],
   "source": [
    "if 'json' in filename:\n",
    "    df = [json.loads(x) for x in open(filename)]\n",
    "    df = pd.DataFrame(df)\n",
    "else:\n",
    "    df = read_simple_user_info(filename)\n",
    "    \n",
    "df_len = len(df)\n",
    "df = df[df.description != \"\"]\n",
    "df = df[~df.description.isnull()]\n",
    "df = df[~df.description.str.contains(\"(?i)(we are)|(not affiliated)\")]\n",
    "df_len_removed = len(df)\n",
    "\n",
    "if 'status_lang' in df.columns:\n",
    "    df = df[(df.status_lang.str.strip().isin([\"en\",\"\",\"und\",\"es\"])) | df.protected]\n",
    "elif 'lang' in df.columns:\n",
    "    df =  df[(df.lang.isin([\"en\",\"\",\"und\",\"es\"]))]\n",
    "\n",
    "print(df_len, df_len_removed)\n",
    "print(len(df))"
   ]
  },
  {
   "cell_type": "code",
   "execution_count": 30,
   "metadata": {},
   "outputs": [
    {
     "data": {
      "text/html": [
       "<div>\n",
       "<style scoped>\n",
       "    .dataframe tbody tr th:only-of-type {\n",
       "        vertical-align: middle;\n",
       "    }\n",
       "\n",
       "    .dataframe tbody tr th {\n",
       "        vertical-align: top;\n",
       "    }\n",
       "\n",
       "    .dataframe thead th {\n",
       "        text-align: right;\n",
       "    }\n",
       "</style>\n",
       "<table border=\"1\" class=\"dataframe\">\n",
       "  <thead>\n",
       "    <tr style=\"text-align: right;\">\n",
       "      <th></th>\n",
       "      <th>uid</th>\n",
       "      <th>name</th>\n",
       "      <th>screen_name</th>\n",
       "      <th>url</th>\n",
       "      <th>protected</th>\n",
       "      <th>location</th>\n",
       "      <th>description</th>\n",
       "      <th>followers_count</th>\n",
       "      <th>friends_count</th>\n",
       "      <th>created_at</th>\n",
       "      <th>utc_offset</th>\n",
       "      <th>time_zone</th>\n",
       "      <th>statuses_count</th>\n",
       "      <th>lang</th>\n",
       "      <th>status_created_at</th>\n",
       "      <th>status_coordinates</th>\n",
       "      <th>status_lang</th>\n",
       "      <th>profile_image_url_https</th>\n",
       "      <th>verified</th>\n",
       "    </tr>\n",
       "  </thead>\n",
       "  <tbody>\n",
       "    <tr>\n",
       "      <th>1</th>\n",
       "      <td>2379457586</td>\n",
       "      <td>miguel andres</td>\n",
       "      <td>migue0225</td>\n",
       "      <td>None</td>\n",
       "      <td>False</td>\n",
       "      <td>NaN</td>\n",
       "      <td>soy adicto al gym me gustan los manes que le guste ir al gym que sean activos cero pluma pruebo lo que sea cartagena ,quilla etc.</td>\n",
       "      <td>104</td>\n",
       "      <td>92</td>\n",
       "      <td>Sat Mar 08 23:40:35 +0000 2014</td>\n",
       "      <td>None</td>\n",
       "      <td>None</td>\n",
       "      <td>440</td>\n",
       "      <td>es</td>\n",
       "      <td>Mon Sep 01 19:06:27 +0000 2014</td>\n",
       "      <td>NaN</td>\n",
       "      <td>es</td>\n",
       "      <td>https://pbs.twimg.com/profile_images/452105301832265728/vULD4otO_normal.jpeg</td>\n",
       "      <td>False</td>\n",
       "    </tr>\n",
       "  </tbody>\n",
       "</table>\n",
       "</div>"
      ],
      "text/plain": [
       "          uid            name screen_name   url  protected location  \\\n",
       "1  2379457586  miguel andres   migue0225   None  False      NaN       \n",
       "\n",
       "                                                                                                                         description  \\\n",
       "1  soy adicto al gym me gustan los manes que le guste ir al gym que sean activos cero pluma pruebo lo que sea cartagena ,quilla etc.   \n",
       "\n",
       "   followers_count  friends_count                      created_at utc_offset  \\\n",
       "1  104              92             Sat Mar 08 23:40:35 +0000 2014  None        \n",
       "\n",
       "  time_zone  statuses_count lang               status_created_at  \\\n",
       "1  None      440             es   Mon Sep 01 19:06:27 +0000 2014   \n",
       "\n",
       "  status_coordinates status_lang  \\\n",
       "1  NaN                es           \n",
       "\n",
       "                                                        profile_image_url_https  \\\n",
       "1  https://pbs.twimg.com/profile_images/452105301832265728/vULD4otO_normal.jpeg   \n",
       "\n",
       "   verified  \n",
       "1  False     "
      ]
     },
     "execution_count": 30,
     "metadata": {},
     "output_type": "execute_result"
    }
   ],
   "source": [
    "df.head(1)"
   ]
  },
  {
   "cell_type": "code",
   "execution_count": 31,
   "metadata": {},
   "outputs": [
    {
     "name": "stderr",
     "output_type": "stream",
     "text": [
      "100%|██████████| 517827/517827 [00:53<00:00, 9677.31it/s] \n"
     ]
    }
   ],
   "source": [
    "word_idf, emoji_idf = count_phrases(df.description,\n",
    "                                    n_cores=16,\n",
    "                                    is_notebook=True)\n"
   ]
  },
  {
   "cell_type": "code",
   "execution_count": 32,
   "metadata": {},
   "outputs": [],
   "source": [
    "# final cleaning\n",
    "word_idf = word_idf.assign(phrase = word_idf.phrase.str.replace(\"_\",\" \"))\n",
    "word_idf = word_idf.groupby(\"phrase\").agg({\"n\" :\"sum\"}).reset_index()\n",
    "word_idf['n_token'] = word_idf['phrase'].map(lambda x: len(x.split(' ')))"
   ]
  },
  {
   "cell_type": "code",
   "execution_count": 33,
   "metadata": {},
   "outputs": [],
   "source": [
    "word_idf.to_csv(\"wordidf_{}.csv\".format(filename.replace(\".tsv\",\"\")),index=False)"
   ]
  },
  {
   "cell_type": "code",
   "execution_count": 34,
   "metadata": {},
   "outputs": [],
   "source": [
    "# Analysis in new_analysis.R "
   ]
  },
  {
   "cell_type": "code",
   "execution_count": 35,
   "metadata": {},
   "outputs": [
    {
     "name": "stdout",
     "output_type": "stream",
     "text": [
      "444149\n"
     ]
    }
   ],
   "source": [
    "vocab = word_idf[(word_idf.n_token < 4)].phrase\n",
    "vocab = [v for v in vocab if len(v) > MIN_CHAR_LEN_IDENTITIES]\n",
    "\n",
    "print(len(vocab))\n",
    "\n",
    "# remove the number indicator on its own\n",
    "with open('vocab_{}.txt'.format(filename).replace(\".tsv\",\"\"), 'w') as f:\n",
    "    f.write('\\n'.join(vocab))"
   ]
  },
  {
   "cell_type": "code",
   "execution_count": 36,
   "metadata": {},
   "outputs": [
    {
     "data": {
      "application/vnd.jupyter.widget-view+json": {
       "model_id": "09a07de8e9254d88a54a416085fec047",
       "version_major": 2,
       "version_minor": 0
      },
      "text/plain": [
       "  0%|          | 0/517827 [00:00<?, ?it/s]"
      ]
     },
     "metadata": {},
     "output_type": "display_data"
    }
   ],
   "source": [
    "fcall = partial(find_identifiers_simple)\n",
    "results = Parallel(n_jobs=16)(delayed(fcall)(d) for d in tqdm_notebook(df.description))"
   ]
  },
  {
   "cell_type": "code",
   "execution_count": 37,
   "metadata": {},
   "outputs": [
    {
     "name": "stdout",
     "output_type": "stream",
     "text": [
      "0\n",
      "200000\n",
      "400000\n"
     ]
    }
   ],
   "source": [
    "with open(\"output_{}.tsv\".format(filename.replace(\".tsv\",\"\")), \"w\") as of:\n",
    "    of.write(\"{}\\n\".format(\"\\t\".join(['uid','term','position','n_type','n_total','termtype'])))\n",
    "    id_field = 'uid' if 'uid' in df.columns else 'id_str'\n",
    "    for i, (identities, emojis) in enumerate(results):\n",
    "        if i % 200000 == 0: \n",
    "            print(i)\n",
    "        uid = df.iloc[i][id_field]\n",
    "        idlen = str(len(identities))\n",
    "        emoji_len = str(len(emojis))\n",
    "        tot_len = str(len(identities) + len(emojis))\n",
    "        for j,identity in enumerate(identities):\n",
    "            of.write(\"{}\\n\".format(\"\\t\".join([uid,identity,str(j),idlen,tot_len,\"identity\"])))\n",
    "        \n",
    "        for j,emoji in enumerate(emojis):\n",
    "            of.write(\"{}\\n\".format(\"\\t\".join([uid,emoji,str(j),idlen,tot_len,\"emoji\"])))    "
   ]
  },
  {
   "cell_type": "code",
   "execution_count": null,
   "metadata": {},
   "outputs": [],
   "source": [
    "\n",
    "with open(\"lang_{}.tsv\".format(filename.replace(\".tsv\",\"\")), \"w\") as of:\n",
    "        for i, row in tqdm(df.iterrows()):\n",
    "            m = fmodel.predict([row['description']])  # ([['__label__en']], [array([0.9331119], dtype=float32)]\n",
    "            if m and m[0] and m[0][0] and m[0][0][0]:\n",
    "                of.write(str(row['uid']) + \"\\t\" + m[0][0][0].replace(\"__label__\",\"\")+\"\\n\")"
   ]
  },
  {
   "cell_type": "code",
   "execution_count": null,
   "metadata": {},
   "outputs": [],
   "source": []
  }
 ],
 "metadata": {
  "kernelspec": {
   "display_name": "myenv",
   "language": "python",
   "name": "myenv"
  },
  "language_info": {
   "codemirror_mode": {
    "name": "ipython",
    "version": 3
   },
   "file_extension": ".py",
   "mimetype": "text/x-python",
   "name": "python",
   "nbconvert_exporter": "python",
   "pygments_lexer": "ipython3",
   "version": "3.8.5"
  },
  "toc": {
   "base_numbering": 1,
   "nav_menu": {},
   "number_sections": true,
   "sideBar": true,
   "skip_h1_title": false,
   "title_cell": "Table of Contents",
   "title_sidebar": "Contents",
   "toc_cell": false,
   "toc_position": {},
   "toc_section_display": true,
   "toc_window_display": false
  }
 },
 "nbformat": 4,
 "nbformat_minor": 2
}
