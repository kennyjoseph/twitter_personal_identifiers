{
 "cells": [
  {
   "cell_type": "code",
   "execution_count": 2,
   "metadata": {},
   "outputs": [],
   "source": [
    "import pandas as pd\n",
    "# read the file in. \n",
    "user_ht_links_main = pd.read_csv(\"output_panel_7_7_20.tsv\", sep=\"\\t\")\n"
   ]
  },
  {
   "cell_type": "code",
   "execution_count": 3,
   "metadata": {},
   "outputs": [],
   "source": [
    "user_ht_links = user_ht_links_main.copy()"
   ]
  },
  {
   "cell_type": "code",
   "execution_count": 4,
   "metadata": {},
   "outputs": [],
   "source": [
    "vocab = set([v.strip() for v in open(\"vocab_panel_7_7_20.tsv.txt\")])"
   ]
  },
  {
   "cell_type": "code",
   "execution_count": 5,
   "metadata": {},
   "outputs": [],
   "source": [
    "user_ht_links = user_ht_links[user_ht_links.term.isin(vocab)]"
   ]
  },
  {
   "cell_type": "code",
   "execution_count": 9,
   "metadata": {},
   "outputs": [],
   "source": [
    "v = user_ht_links.groupby(\"term\").uid.nunique().reset_index()\n",
    "v.columns = ['term', 'n']"
   ]
  },
  {
   "cell_type": "code",
   "execution_count": 28,
   "metadata": {},
   "outputs": [],
   "source": [
    "v = v[v.n > 100]"
   ]
  },
  {
   "cell_type": "code",
   "execution_count": 29,
   "metadata": {},
   "outputs": [
    {
     "data": {
      "text/plain": [
       "(2778, 2)"
      ]
     },
     "execution_count": 29,
     "metadata": {},
     "output_type": "execute_result"
    }
   ],
   "source": [
    "v.shape"
   ]
  },
  {
   "cell_type": "code",
   "execution_count": 30,
   "metadata": {},
   "outputs": [],
   "source": [
    "user_ht_links = user_ht_links[user_ht_links.term.isin(v.term)]"
   ]
  },
  {
   "cell_type": "code",
   "execution_count": 31,
   "metadata": {},
   "outputs": [
    {
     "data": {
      "text/html": [
       "<div>\n",
       "<style scoped>\n",
       "    .dataframe tbody tr th:only-of-type {\n",
       "        vertical-align: middle;\n",
       "    }\n",
       "\n",
       "    .dataframe tbody tr th {\n",
       "        vertical-align: top;\n",
       "    }\n",
       "\n",
       "    .dataframe thead th {\n",
       "        text-align: right;\n",
       "    }\n",
       "</style>\n",
       "<table border=\"1\" class=\"dataframe\">\n",
       "  <thead>\n",
       "    <tr style=\"text-align: right;\">\n",
       "      <th></th>\n",
       "      <th>uid</th>\n",
       "      <th>ht</th>\n",
       "      <th>linkweight</th>\n",
       "    </tr>\n",
       "  </thead>\n",
       "  <tbody>\n",
       "    <tr>\n",
       "      <th>0</th>\n",
       "      <td>17</td>\n",
       "      <td>medium</td>\n",
       "      <td>1</td>\n",
       "    </tr>\n",
       "    <tr>\n",
       "      <th>1</th>\n",
       "      <td>18</td>\n",
       "      <td>hello</td>\n",
       "      <td>1</td>\n",
       "    </tr>\n",
       "    <tr>\n",
       "      <th>2</th>\n",
       "      <td>388</td>\n",
       "      <td>design</td>\n",
       "      <td>1</td>\n",
       "    </tr>\n",
       "    <tr>\n",
       "      <th>3</th>\n",
       "      <td>388</td>\n",
       "      <td>food</td>\n",
       "      <td>1</td>\n",
       "    </tr>\n",
       "    <tr>\n",
       "      <th>4</th>\n",
       "      <td>388</td>\n",
       "      <td>technology</td>\n",
       "      <td>1</td>\n",
       "    </tr>\n",
       "  </tbody>\n",
       "</table>\n",
       "</div>"
      ],
      "text/plain": [
       "   uid          ht  linkweight\n",
       "0   17      medium           1\n",
       "1   18       hello           1\n",
       "2  388      design           1\n",
       "3  388        food           1\n",
       "4  388  technology           1"
      ]
     },
     "execution_count": 31,
     "metadata": {},
     "output_type": "execute_result"
    }
   ],
   "source": [
    "# aggregate across user/ht pairs\n",
    "user_ht_links_agg = user_ht_links.groupby(['uid','term']).size().reset_index()\n",
    "user_ht_links_agg.columns = ['uid', 'ht', 'linkweight']\n",
    "user_ht_links_agg.head()"
   ]
  },
  {
   "cell_type": "code",
   "execution_count": 32,
   "metadata": {},
   "outputs": [],
   "source": [
    "m = user_ht_links_agg.uid.value_counts().reset_index()\n",
    "user_ht_links_agg  = user_ht_links_agg[user_ht_links_agg.uid.isin(m[m.uid > 1]['index'])]\n"
   ]
  },
  {
   "cell_type": "code",
   "execution_count": 33,
   "metadata": {},
   "outputs": [],
   "source": [
    "# To translate to a matrix we have to give each user and ht an index. \n",
    "# stealing fancy solution from here: \n",
    "# https://stackoverflow.com/questions/45685254/q-pandas-how-to-efficiently-assign-unique-id-to-individuals-with-multiple-ent\n",
    "user_ht_links_agg = user_ht_links_agg.assign(uid_matrixid = user_ht_links_agg.groupby(['uid']).ngroup(),\n",
    "                                             ht_matrixid = user_ht_links_agg.groupby(['ht']).ngroup())"
   ]
  },
  {
   "cell_type": "code",
   "execution_count": 34,
   "metadata": {},
   "outputs": [],
   "source": [
    "# write out indices so we can remember what links to what\n",
    "(user_ht_links_agg[['uid','uid_matrixid']]\n",
    " .groupby(['uid','uid_matrixid'])\n",
    " .head(1)\n",
    " .to_csv(\"bipartite_uid_map.csv\",index=False))\n",
    "\n",
    "# write out indices so we can remember what links to what\n",
    "(user_ht_links_agg[['ht','ht_matrixid']]\n",
    " .groupby(['ht','ht_matrixid'])\n",
    " .head(1)\n",
    " .to_csv(\"bipartite_ht_map.csv\",index=False))"
   ]
  },
  {
   "cell_type": "code",
   "execution_count": 35,
   "metadata": {},
   "outputs": [],
   "source": [
    "# ok, cool, now we can write out the matrix needed for the bipartite pairs stuff\n",
    "# this matrix is constructed oddly, you can look here for easier to understand examples: \n",
    "# https://docs.scipy.org/doc/scipy/reference/generated/scipy.sparse.coo_matrix.html\n",
    "from scipy import sparse, io\n",
    "output_matrix = sparse.coo_matrix((user_ht_links_agg.linkweight.values.tolist(), \n",
    "                                   (user_ht_links_agg.ht_matrixid.values,\n",
    "                                    user_ht_links_agg.uid_matrixid.values)))\n"
   ]
  },
  {
   "cell_type": "code",
   "execution_count": 36,
   "metadata": {},
   "outputs": [
    {
     "data": {
      "text/plain": [
       "(2778, 337139)"
      ]
     },
     "execution_count": 36,
     "metadata": {},
     "output_type": "execute_result"
    }
   ],
   "source": [
    "output_matrix.shape"
   ]
  },
  {
   "cell_type": "code",
   "execution_count": 37,
   "metadata": {},
   "outputs": [],
   "source": [
    "from sklearn.cluster import SpectralCoclustering\n",
    "\n",
    "clustering = SpectralCoclustering(n_clusters=100, random_state=0).fit(output_matrix)\n"
   ]
  },
  {
   "cell_type": "code",
   "execution_count": 38,
   "metadata": {},
   "outputs": [],
   "source": [
    "mat = (user_ht_links_agg[['ht','ht_matrixid']]\n",
    " .groupby(['ht','ht_matrixid'])\n",
    " .head(1).sort_values(\"ht_matrixid\"))"
   ]
  },
  {
   "cell_type": "code",
   "execution_count": 39,
   "metadata": {},
   "outputs": [],
   "source": [
    "mat = mat.assign(labs = clustering.row_labels_)"
   ]
  },
  {
   "cell_type": "code",
   "execution_count": 54,
   "metadata": {},
   "outputs": [
    {
     "name": "stdout",
     "output_type": "stream",
     "text": [
      "0 & american, army vet, army veteran, bad, catholic, conservative, constitutional conservative, dentist, father of 2, father of 4, father of 5, father of four, father of three, father of two, graphic, happy husband, husband of 1, independent thinker, libertarian, livin' the dream, loving husband, lucky husband, marine, native texan, navy vet, navy veteran, pro-life, professional speaker, property manager, proud american, proud father, real estate agent, real estate professional, republican, romans 8:28, steelers fan, truth seeker \\\\ \\hline\n",
      "1 & dignity, proverbs 31:25 \\\\ \\hline\n",
      "2 & imperfection is beauty, madness is genius \\\\ \\hline\n",
      "3 & play harder \\\\ \\hline\n",
      "4 & member finra, sipc \\\\ \\hline\n",
      "5 & only \\\\ \\hline\n",
      "6 & 49ers, all the time, america, angels, astros, bruins, celtics, constitution, cosmetic, cowboys, dodgers, dolphins, ducks, field, giants, go vols, god is good, heat, jets, junior, keeppounding, kings, knicks, lakers, mets, military, new jersey, notre dame, ny giants, panthers, patriots, penguins, penn state, pens, pirates, raiders, rangers, red sox, redskins, redsox, savior, stars, steelers, tigers, track, yankees \\\\ \\hline\n",
      "7 & acab, hers \\\\ \\hline\n",
      "8 & 20 years old, breathe, dream, enjoy life, grow, just a guy, learn, listen, love, pray, smile \\\\ \\hline\n",
      "9 & camping, country music, farming, fishing, friends, golfing, hunting, my children, my daughter, my dogs, my family, my friends, my god, my hubby, my husband, my kids, my son, my wife, places, stuff, things \\\\ \\hline\n",
      "10 & dream big \\\\ \\hline\n",
      "11 & academic, activist, advocate, amateur chef, anthropologist, art director, aspiring author, beekeeper, biologist, birder, bon vivant, buddhist, chemist, cinematographer, cinephile, climber, coder, collaborator, comic, community organizer, computer scientist, content creator, costume designer, creative director, creator, critic, curator, digital artist, director, disney lover, doctoral student, eater, editor, environmentalist, essayist, game designer, game developer, gamer, geek, gentleman, globetrotter, goofball, historian, humanist, humorist, journalist, knitter, lecturer, linguist, maker, naturalist, nbct, nerd, nutritionist, observer, ocean lover, opera singer, organizer, parent, physicist, podcaster, professor, programmer, publisher, raconteur, reader, researcher, reviewer, rock climber, scholar, scientist, skeptic, software developer, spanish teacher, story teller, storyteller, streamer, tea drinker, technophile, translator, tree hugger, trekkie, tv host, video editor, video game enthusiast, video gamer, video producer, voice actor, voracious reader, wanderer, weirdo, writer, yogi \\\\ \\hline\n",
      "13 & 2021, bisexual, blacklivesmatter, blm, cat person, here, im me, phd candidate, rep, rep'd by, repped by, scicomm, texas ex \\\\ \\hline\n",
      "14 & one \\\\ \\hline\n",
      "16 & advocacy, biotech, boys, brands, chiefskingdom, cities, climate change, coding, collaboration, communication, computer, computer science, conservation, criminal justice, crypto, d\\&d, data, democracy, digital media, editing, education, energy, environment, ethics, ever, fantasy, fiction, film, fine art, fundraising, higher ed, horror, human rights, information, journalism, landscape, language, like, literacy, lover of cats, mac, marvel, math, media, medicine, minneapolis, mizzou, mostly, museums, netflix, neuroscience, news, nonprofits, opera, other stuff, philanthropy, photo, physics, pinterest, podcasts, policy, pop culture, ps4, psychology, puns, raidernation, research, san francisco, sci-fi, science, science fiction, social justice, society, sociology, space, sport, star trek, startups, stories, storytelling, sustainability, television, transportation, unlv, words, you know, zta \\\\ \\hline\n",
      "17 & laugh often, live well \\\\ \\hline\n",
      "19 & laugh, live \\\\ \\hline\n",
      "20 & eagles, flyers, phillies, sixers \\\\ \\hline\n",
      "21 & laugh a lot, live to love \\\\ \\hline\n",
      "22 & 19 years old, 2 cats, 22 years old, 23 years old, 3 kids, amen, awesome, bass, blues, boomer sooner, boy, build, businesses, cheers, christ, college, compassion, country girl, dreams, end, farm, follow, freedom, full time student, future, god bless, god is great, god is love, gohawks, grace, healing, hello, help, hey, hit me up, inspiration, jazz, jesus christ, joy, just living life, just me, kcco, kindness, know, knowledge, liberty, life is good, life is great, lol, louis cardinals, loves god, loves life, loves to travel, loving god, most of all, motivation, music is life, nuff said, okay, out, passion, passionate about life, phoenix, pilates, pop, portraits, positive vibes, positivity, power, psu, purpose, r i p, random, reiki, relationships, rock, saints, senior, sfgiants, sharing, silly, simple, single, skol, smiles, success, tall, texas a\\&m, that's me, truth, unique, war eagle, wealth, weird, who i am, will, working hard, world, worship, zumba \\\\ \\hline\n",
      "23 & brother, businessman, christ-follower, church planter, disciple, disciple of christ, father, father of 3, fisherman, grandfather, grandpa, husband, inspirational speaker, livin, man of god, minister, missionary, outdoorsman, papa, pastor, preacher, radio host, senior pastor, servant, son, uncle, worship leader, youth pastor \\\\ \\hline\n",
      "24 & browns, cavs, indians \\\\ \\hline\n",
      "25 & believe in yourself, stay positive \\\\ \\hline\n",
      "26 & achiever, administrator, adventure seeker, adventurer, assistant principal, athlete, author, backpacker, baker, beer drinker, beer snob, bicyclist, biker, blogger, brewer, buckeye, builder, camper, carpenter, cat owner, chaplain, chef, citizen, coach, coffee drinker, collector, community activist, community advocate, computer geek, computer programmer, concerned citizen, conservationist, counselor, crafter, creative thinker, crocheter, cyclist, dad, daddy, daydreamer, devoted husband, diyer, doctor, doer, dog owner, dog-lover, dork, doula, dream chaser, dreamer, drinker, educator, engineer, entrepreneur, entreprenuer, evangelist, explorer, fighter, film producer, gardener, genealogist, golfer, google certified educator, grandparent, hacker, healer, hiker, hockey player, home brewer, homebrewer, human, human being, humanitarian, hunter, idealist, innovator, internet marketer, inventor, kayaker, leader, learner, life coach, life long learner, life-long learner, lifelong learner, listener, martial artist, mathematician, mechanic, meditator, mentor, motivational speaker, motivator, motorcycle enthusiast, motorcyclist, mountain biker, music teacher, nature lover, ninja, optimist, passionate educator, pastry chef, people lover, person, philanthropist, photographer, pilot, poker player, political activist, potter, presenter, problem solver, promoter, public servant, public speaker, published author, quilter, radio personality, real estate investor, renaissance man, runner, sailor, salesman, scuba diver, seeker, servant leader, skier, snowboarder, soldier, speaker, student, superhero, surfer, swimmer, teacher, techie, technologist, tennis player, thinker, tinkerer, trader, trainer, traveler, traveller, triathlete, violinist, visionary, vlogger, walker, web designer, web developer, wine drinker, woodworker, yogini \\\\ \\hline\n",
      "28 & 2020, account executive, agile, all tweets, alumni, android, apple, asu, audio, austin, aws, baltimore, bgsu, billsmafia, bitcoin, blockchain, brooklyn, buffalo, by day, cal, cincinnati, cisco, cle, cleveland, cmo, cmu, columbus, communications, compliance, content, coys, csr, data science, denver, dev, devops, digital, dir, diversity, environmental, espn, fintech, for, former, gis, go bucks, grad, graduate, gvsu, head coach, healthcare, highered, housing, ibm, illinois, immigration, infosec, interested in, intern, international, javascript, kansas, labor, law student, leadership, linkedin, linux, louisiana, m s, machine learning, managing director, managing editor, media relations, mpa, my own, native, nonprofit, ohiostate, oklahoma, opinions are mine, oracle, partnerships, passionate about, pc gamer, philly, privacy, product, product marketing, production, program director, program manager, proud, public affairs, public policy, publishing, python, quality, really, resident, rt endorsement, safety, salesforce, sdsu, security, socialmedia, solutions, startup, state, stem, svp, syracuseu, tamu, tips, tweets are mine, uber, ucf, unc, univ, uofsc, usc, usf, vice president, video, virginia, vmware, washington, web, womenintech, wordpress, works, ynwa \\\\ \\hline\n",
      "29 & pizza expert, rocket ship builder \\\\ \\hline\n",
      "30 & backtheblue, it's me, kag, kag2020, maga, qanon, trump 2020, trump2020, wwg1wga \\\\ \\hline\n",
      "31 & don't worry \\\\ \\hline\n",
      "32 & adults, couples, teens \\\\ \\hline\n",
      "33 & 24 years old, bears, bills, blackhawks, braves, bucs, bulls, class of 2016, colts, cubs, falcons, fields, gators, government, hawkeyes, hawks, pacers, rodan, sabres, titans, vols \\\\ \\hline\n",
      "35 & ella, her, pronouns: she, she, them, they \\\\ \\hline\n",
      "37 & adhd, also, always learning, among other things, aquarius, aries, artists, atl, atx, awkward, baby, biden2020, bio, black, blog, bluewave, book, cancer, capricorn, chi, dig it, editorial, empathy, emt, english, estate planning, esthetician, etsy, facebook, fbr, for now, freelance, freelance graphic designer, french, full time mom, future mrs, gay, head, insta, instagram, justice, leo, lgbt, libra, lifestyle blogger, likes, los angeles, lover of words, married to, mental health, mentalhealth, mffl, mine, mine alone, msw, my opinions, my tweets, my views, namaste, nerdy, nevertrump, notmypresident, now, nyc, nyr, nyy, on instagram, opinions, others, pdx, performance, personal account, pisces, please, proud member, resist, resistance, rva, sagittarius, scorpio, seattle, slytherin, small, sometimes, sorry, spanish, stl, t1d, taurus, then, theresistance, thoughts, tweets, txst, uniteblue, views, virgo, voice, volunteer firefighter, vote, voteblue, votebluenomatterwho, wanderlust, white, word nerd, youtube \\\\ \\hline\n",
      "38 & badgers, brewers, bucks, go cougs, packers \\\\ \\hline\n",
      "39 & adventure, antiques, arts, athletics, batman, bbq, beatles, beauty, boston sports, chicago cubs, chocolate, coaching, color, community, cookies, craft beer, creating, creativity, crossfit, dallas cowboys, disney, edm, esp, events, everything in between, films, fitness, girls, glitter, go dawgs, go hawks, goals, guitar, hair, healthy living, hip hop, home, hugs, humor, italy, jewelry, languages, learning, lifestyle, literature, lover of art, lover of food, lover of sports, lover of travel, lover of wine, loves animals, makeup, meditation, nature, nursing, nutrition, of course, other things, outlander, paranormal, parenting, paris, people, piano, poetry, quotes, recipes, red wine, scuba, seahawks, sex, sf giants, skincare, spirits, spirituality, starbucks, style, sun, sup, supernatural, tea, teaching, theatre, theology, traveling the world, twd, tweet, twins, vegas, vikings, vintage, water, wildlife, wsu, yoga, you \\\\ \\hline\n",
      "40 & act, chill, create, draw, hike, im just me, knit, listen to music, paint, party, read, sew, sing, swim, watch movies, write \\\\ \\hline\n",
      "41 & army, constitutionalist, god bless america, husband of one, israel, lions, navy, nra, patriot, prolife, trump, trump supporter, u s, veterans \\\\ \\hline\n",
      "42 & accessories, addict, alabama, alaska, all things, arizona, bay area, bbn, beyond, big, biology, biz, blue, boston, business, but, cali, career, change, chemistry, chicago, colorado, cowboysnation, detroit, director of marketing, earth, engagement, enough said, equality, etc, event, everything, fire, fluent in sarcasm, gocougs, godawgs, goducks, gopackgo, green, growing, growth, guy, hawaii, health, helping, humanity, ideas, illini, in that order, irish, junkie, kentucky, las vegas, local, london, lover of animals, lover of books, lover of coffee, lover of dogs, lover of music, loves, loves jesus, lsu, maine, mindfulness, minnesota, more, movie, msu, my thoughts, new, new orleans, nola, north carolina, oh yeah, oil, organic, pnw, portrait, proud of it, proverbs 3:5-6, real estate, recruiting, roll tide, romance, san diego, scifi, sea, services, sound, spa, special events, starwars, target, through, too, ttu, welcome, wellness, what i do, whatever, wisconsin, women, workshops, wow \\\\ \\hline\n",
      "43 & beachbody coach, blessed wife, devoted wife, er nurse, female, flight attendant, free spirit, granddaughter, hard worker, just a girl, loved, loving mother, mother of 2, mother of 4, mother of four, mother of two, native american, nice guy, nursing student, occupational therapist, operator, people person, preschool teacher, princess, professional photographer, proud mother, puerto rican, queen, retired, romantic, saints fan, saved, saved by grace, single mom, single mother, spiritual, tattoo artist, texas forever, twin, widow \\\\ \\hline\n",
      "44 & have courage \\\\ \\hline\n",
      "46 & buying, selling \\\\ \\hline\n",
      "47 & baking, baseball, basketball, being outdoors, biking, boating, bowling, cars, college football, computers, concerts, cooking, crafting, crocheting, dancing, drawing, eating, fast cars, flowers, football, gardening, golf, guns, gym, hiking, horses, kayaking, knitting, listening to music, motorcycles, movies, my cat, my dog, painting, playing, playing video games, quilting, racing, reading, sailing, sewing, shit, shopping, singing, skateboarding, skiing, snowboarding, softball, surfing, swimming, traveling, trucks, tv shows, university of alabama, video games, walking, watching movies, working out, wrestling \\\\ \\hline\n",
      "48 & wait \\\\ \\hline\n",
      "49 & 2011, 2012, 2013, 2014, 2015, 2016, 2017, 2018, 2019, alive, always, amazing, beardown, classy, employed, experience, fabulous, followme, forever, free, god 1st, hungry, investment, investments, keep moving forward, luxury, max, new to twitter, old, present, realestate, sassy, seriously, that's about it, young \\\\ \\hline\n",
      "50 & what \\\\ \\hline\n",
      "51 & body, mind, spirit \\\\ \\hline\n",
      "52 & arranger, audio engineer, bassist, children's book author, composer, conductor, guitarist, loving it, lyricist, medical assistant, music educator, music producer, percussionist, pianist, rapper, recording artist, singer, song writer, songwriter, sound designer, vocalist \\\\ \\hline\n",
      "53 & abr, gri, surrounding areas \\\\ \\hline\n",
      "54 & ask, bake, care, connect, craft, educate, empower, game, girl, lead, lot, make, make music, make things, mark twain, maya angelou, meow, movement, one love, period, seuss, talk, teach, thank you, thanks, there, unknown, wild \\\\ \\hline\n",
      "55 & 5th grade teacher, adrenaline junkie, advisor, all around nerd, amateur photographer, analyst, apple teacher, architect, attorney, audiophile, avid golfer, avid runner, avid traveler, baseball fan, best selling author, boater, booking, broadcaster, business analyst, business consultant, caffeine addict, car enthusiast, change agent, cleveland sports fan, co-owner, college professor, communicator, connector, consultant, cpa, craft beer enthusiast, developer, digital marketer, dog dad, eagle scout, economist, education advocate, electrician, executive, executive coach, facilitator, fundraiser, futurist, graduate student, history buff, hockey mom, husband to, influencer, inquiries, instructional coach, instructor, investor, it professional, keynote speaker, lawyer, leadership coach, loving father, management consultant, manager, marathoner, marketer, marketing consultant, marketing strategist, master of none, mechanical engineer, mediator, metalhead, mexican, michigander, music fan, native new yorker, networker, paramedic, pediatrician, physician, planner, podcast host, political junkie, principal, project manager, proud dad, realtor, science teacher, serial entrepreneur, soccer fan, social entrepreneur, strategist, tech enthusiast, tech geek, tech junkie, tech nerd, technology enthusiast, texan, thought leader, trail runner, tv producer, welder, winner, wrestling fan, youtuber \\\\ \\hline\n",
      "56 & believe, cool, cute, enjoy, explore, geaux tigers, happiness, honesty, hope, laid back, life is beautiful, listening, live it, loyalty, meet new people, nice, peace, relax, respect, sexy, share, short, sweet, that is all, think, trust \\\\ \\hline\n",
      "57 & be happy \\\\ \\hline\n",
      "59 & let live \\\\ \\hline\n",
      "60 & associates, broker, cfp, company, financial advisor, inc, llc, maryland, nmls, own, practitioner \\\\ \\hline\n",
      "61 & action, all, animation, ask me, aviation, broncos, cardinals, classic rock, culture, design, diy, duke, economics, electronics, engineering, entertainment, entrepreneurship, event planning, finance, gbr, graphic design, history, hospitality, huskers, illustration, interests, interior design, internet, law, magic, maps, mlb, mma, nba, nebraska, nfl, nhl, philosophy, politics, pro wrestling, programming, religion, spurs, star wars, tech, technology, ufc, uga, video production, weather, websites, wwe, xbox \\\\ \\hline\n",
      "62 & aunt, auntie, barber, bass player, believer, best friend, bowler, business owner, business woman, child of god, christ follower, christian, christian wife, cousin, dance teacher, daughter, elementary principal, encourager, farmer, follower, follower of christ, follower of jesus, football coach, forgiven, friend, friend to many, girlfriend, grammy, grandma, grandmother, guitar player, housewife, husker fan, insurance agent, jesus follower, jesus freak, jesus lover, lovin' life, loving wife, loyal friend, middle school teacher, mimi, mother, mother of twins, nana, niece, ordained minister, packer fan, pastor's wife, real estate broker, redeemed, scrapbooker, sinner, sister, superintendent, tutor, wife, woman, woman of god, worshiper, worshipper, yoga instructor \\\\ \\hline\n",
      "63 & anxiety, atc, blessed beyond measure, children, cscs, depression, family therapist, joshua 1:9, keep calm, marriage, ptsd, strength, weddings \\\\ \\hline\n",
      "66 & abc, adobe, airbnb, alum, alumna, amazon, assistant professor, associate director, associate professor, b a, board, bylines, candidate, cashapp, class of 2017, climate, cnn, co-host, columbia, columbiajourn, com, comms, cornell, current, currently, d c, disability, dukeu, equity, fellow, fmr, formerly, georgetown, gmail, google, harvard, huffpost, inclusion, itunes, j d, latimes, m a, madison, medillschool, microsoft, mit, nbc, network, newhousesu, northwesternu, npr, nytimes, ohiou, opinions mine, opinions my own, past, penn, phd student, political science, politics junkie, prev, previously, princeton, public health, race, reporter for, rts endorsements, rts not endorsements, sapro, senior editor, spotify, stanford, that, time, tweets mine, tweets my own, twitch, twitter, ucberkeley, uchicago, ucla, umich, usatoday, utaustin, uva, uwmadison, via, vice, views are mine, views mine, views my own, washingtonpost, writer for, wsj, yahoo, yale \\\\ \\hline\n",
      "67 & ally, amwriting, archivist, bernie2020, binders, cat enthusiast, cat lady, certified personal trainer, co-creator, cosplayer, data nerd, disabled, dude, editor-in-chief, enfj, enfp, feminist, freelance editor, grad student, gryffindor, him, his, hufflepuff, infj, infp, jewish, lesbian, lgbtq, librarian, link below, mental health advocate, metoo, minnesotan, mph, out now, pagan, product designer, ravenclaw, resister, scbwi, social justice advocate, socialist, sociologist, spoonie, tired, twitch streamer, witch, writingcommunity \\\\ \\hline\n",
      "68 & be strong, families, hakuna matata, heart, soul \\\\ \\hline\n",
      "69 & fish, hunt \\\\ \\hline\n",
      "70 & account manager, admin, aka, arkansas, atlanta, autism, avid, avid gamer, b s, bilingual, boymom, brand, bred, california, cfo, champion, charlotte, chicago native, cio, civil engineer, college graduate, colorado native, coming soon, communications professional, consumer, counting, dallas, director of sales, dogmom, edtech, enthusiast, entrepreneurs, est, exec, expert, family guy, fan, fanatic, florida, football fanatic, for life, girldad, global, go blue, go gators, good, history teacher, htx, innovative, instruction, l a, links, louis, marketing director, marketing guru, marketing manager, marketing professional, marketing specialist, mba, memphis, meteorologist, mia, miami, michigan, mom of 4, new mom, new york, no dms, not, ohio, online, personal, player, pmp, political, pop culture junkie, portland, pr pro, pr professional, pro, professional, proud democrat, radio, recruiter, ret, retweets, sales, sneakerhead, specialist, supporter, talent, teams, us army, usmc, vet, vfl, wife of 1, with, wps, yankees fan \\\\ \\hline\n",
      "71 & 1st grade teacher, 3rd grade teacher, 4th grade teacher, accountant, aggie, animal advocate, animal lover, army wife, aspiring writer, avid cyclist, avid reader, banker, bartender, baseball coach, basketball coach, beach bum, beach lover, beer enthusiast, beer lover, book reader, book worm, boss, boston sports fan, boy mom, breast cancer survivor, business coach, cancer survivor, caregiver, cheerleader, chicago sports fan, child advocate, chiropractor, chocoholic, chocolate lover, coffee lover, college grad, college student, community volunteer, crossfitter, cubs fan, disney fanatic, dog lover, driver, electrical engineer, elementary teacher, employee, english teacher, equestrian, event planner, family man, fashion lover, fashionista, fianc, first grade teacher, fitness enthusiast, fitness fanatic, fitness instructor, football fan, free thinker, girl mom, good friend, grandmom, gym rat, hair stylist, hairstylist, happy wife, health coach, health nut, homemaker, homeschooler, hopeless romantic, horse lover, hr professional, interior designer, intuitive, ironman, it guy, jewelry maker, kindergarten teacher, life lover, lover, lover of christ, lover of life, marathon runner, math teacher, metal head, mets fan, mom, mom of twins, momma, mommy, mompreneur, mormon, mother of 3, mother of three, movie buff, movie lover, mrs, music fanatic, music lover, nanny, nurse, nurse practitioner, old soul, outdoor enthusiast, paralegal, personal trainer, pet lover, pharmacist, physical therapist, private pilot, proud husband, proud mom, proud parent, proud wife, psychologist, psychotherapist, realist, reality tv junkie, rebel, red sox fan, reiki master, retired educator, retired teacher, rotarian, sahm, sales professional, salon owner, school counselor, seeker of truth, shopaholic, small business owner, soccer coach, soccer mom, soccer player, social media enthusiast, spartan, special education teacher, sports enthusiast, sports fan, sports fanatic, sports junkie, sports lover, sports nut, stepmom, student of life, therapist, travel agent, truck driver, us army veteran, usaf veteran, veteran, veterinarian, volunteer, warrior, wifey, wine enthusiast, wine lover, world traveler \\\\ \\hline\n",
      "72 & stay humble \\\\ \\hline\n",
      "74 & black lives matter, intersectional feminist, queer \\\\ \\hline\n",
      "75 & 2 boys, 25 years old, 4 kids, being me, caring, down to earth, easy going, follow back, follow me, followback, friendly, fun loving, funny, goofy, hardworking, hip-hop, honest, intelligent, just being me, kind, lewis, live for today, live laugh love, living, loving, outgoing, r\\&b, roll, shy, smart, spontaneous, teamfollowback, teamjesus, truly blessed, understanding, was born, what i am, yolo \\\\ \\hline\n",
      "76 & marilyn monroe \\\\ \\hline\n",
      "77 & adoption, avid sports fan, bitch, blonde, cat, child, cna, cook, corporate, crafty, creative, curious, divorce, divorced, dog, experienced, fitness coach, gemini, georgia, german, gold, hailstate, hairdresser, hubby, indiana, italian, jucoproduct, lds, licensed massage therapist, lover of god, lover of jesus, lover of nature, lover of people, lovin life, man, mom of 2, mom of 3, mom of 5, mom of three, mom of two, mom to, mom to 3, most importantly, much more, nascar fan, nashville, opinionated, pe teacher, phil, portrait photographer, quirky, redhead, registered nurse, right, small town girl, so much more, social studies teacher, stay tuned, students, support, trauma, wedding, wellness coach, working mom, yes, yoga enthusiast, youth \\\\ \\hline\n",
      "78 & acting, adventures, agriculture, animals, anime, architecture, art, astronomy, bacon, beaches, beer, bikes, birds, blogging, board games, books, bourbon, boxing, broadway, cartoons, cats, cheese, cigars, cocktails, code, coffee, comedy, comic books, comics, cosplay, crafts, current events, cycling, doctor who, dogs, drums, exploring, fam, fashion, food, gadgets, games, gaming, gardens, genealogy, good books, good food, good people, great outdoors, guitars, harry potter, hockey, horror movies, ice cream, jokes, karaoke, lacrosse, live music, loves music, manga, martial arts, memes, metal, modeling, mountains, music, musicals, naps, ocean, outdoors, photography, photos, pizza, plants, poker, products, puppies, reality tv, rugby, running, sarcasm, scotch, scrapbooking, shoes, snow, soccer, sports, sushi, tacos, tattoos, tennis, theater, travel, trees, turtles, videogames, videos, volleyball, volunteering, walking dead, whiskey, wine, woodworking, writing, zombies \\\\ \\hline\n",
      "79 & accounting, advertising, analytics, arsenal, auto, automation, b2b, better, big data, bigdata, born, branding, building, business development, byu, canada, caps, cloud, construction, consulting, content marketing, contentmarketing, cre, cybersecurity, dallascowboys, development, digital marketing, digitalmarketing, ecommerce, flyeaglesfly, fsu, go pack go, goblue, graphics, h2p, houston, httr, huge sports fan, innovation, insurance, investing, iot, iowa, join me, lfc, lost, management, manufacturing, marketing, mobile, networking, new york city, office, operations, orioles, payroll, philadelphia, pittsburgh, planning, ppc, print, product management, project management, promotions, public relations, raised, ravens, retail, rip, robotics, rolltide, saas, sem, seo, service, social, social media, social media marketing, software, strategy, systems, tax, team, texas, texas born, training, uconn, usa, usmnt, visit, web design, web development, well, wvu, yeah \\\\ \\hline\n",
      "80 & albert einstein, election2016 \\\\ \\hline\n",
      "81 & beautiful, bold, bsn, confident, courage, crazy, engaged, everyday, fit, gratitude, happy, healthy, in love, inspire, integrity, light, living life, loud, remember, see, strong, talented, this is me, who dat, wisdom, xoxo \\\\ \\hline\n",
      "83 & bengals, best, buckeyes, ohio state university, osu, reds \\\\ \\hline\n",
      "85 & play hard, work hard \\\\ \\hline\n",
      "86 & babies, beach, church, country, cupcakes, denver broncos, exercise, faith, family, fun, god, good beer, good book, good friends, good music, good times, good vibes, good wine, grandchildren, grandkids, great food, great friends, green bay packers, hard work, having fun, helping others, helping people, jesus, kids, laughing, laughter, learning new things, life, lord, lover of family, loves family, mariners, meeting new people, money, motherhood, my country, my job, my life, myself, nascar, pets, sharks, summer, sunsets, sunshine, texans, warriors, working \\\\ \\hline\n",
      "87 & camp, eat, play games, repeat, sleep \\\\ \\hline\n",
      "88 & adjunct professor, alumnus, anchor, angel investor, assoc, asst, bestselling author, board member, by night, career coach, cat dad, ceo, ceo at, certified, chair, chairman, co-founder, cofounder, columnist, community builder, contact, content marketer, content strategist, contributor, coo, coordinator, copy editor, copywriter, cto, data scientist, dean, digital strategist, dog person, email, executive director, executive producer, faculty, fiction writer, forbes, former journalist, founder, freelance journalist, freelance writer, freelancer, general manager, geologist, history nerd, host, human rights advocate, immigrant, instructional designer, intj, ios, m ed, managing partner, medium, member, millennial, not my employer's, nyu, partner, past president, ph d, phd, podcast, politico, pop culture enthusiast, pres, president, product manager, prof, reporter, rts, social media manager, social media strategist, software engineer, tar heel, technical writer, travel writer, treasurer, twitch affiliate, ui designer, urban planner, urbanist, ux designer, website, yanggang \\\\ \\hline\n",
      "89 & 2nd grade teacher, acupuncturist, agent, ambassador, anglophile, animal, animal rescuer, art enthusiast, art lover, aspiring, atheist, athletic trainer, barista, bibliophile, book lover, book nerd, bookworm, brand ambassador, brand strategist, cat lover, cat mom, check out, chicagoan, clinical psychologist, coffee addict, coffee enthusiast, coffee snob, colorist, cosmetologist, crazy cat lady, creative writer, data analyst, democrat, dietitian, dog enthusiast, dog mama, dog mom, empath, eternal optimist, fangirl, firefighter, fitness junkie, food blogger, food enthusiast, food lover, foodie, former teacher, francophile, freelance photographer, fsu alum, future nurse, ginger, global citizen, hippie, hockey fan, hoosier, introvert, jersey girl, latina, liberal, life enthusiast, lover of learning, makeup artist, mama, mama bear, massage therapist, minimalist, mom of boys, mua, music enthusiast, music junkie, muslim, new yorker, news junkie, night owl, outdoors enthusiast, owner, photog, photojournalist, progressive, proud mama, psalm 46:5, publicist, registered dietitian, science nerd, slp, social butterfly, social worker, spouse, stylist, survivor, tattooed, travel addict, travel enthusiast, travel junkie, travel lover, tv junkie, vegan, vegetarian, wedding photographer, whovian, wife to, wino, wordsmith, work in progress, workaholic, yoga teacher \\\\ \\hline\n",
      "91 & chiefs, ecology, feminism, gender, ksu, libraries, meh, royals, snap, snapchat, unt \\\\ \\hline\n",
      "92 & buy, i'll follow back, in the end, sell, teamiphone, teamleo, teamsingle \\\\ \\hline\n",
      "93 & be kind \\\\ \\hline\n",
      "95 & be you, be yourself, do good, have fun, highly favored, life is short, live life, never give up, no regrets \\\\ \\hline\n",
      "96 & 2 dogs, 2 kids, 21 years old, active, adventurous, again, ambitious, artistic, athletic, back, blessed, busy, call, carpe diem, compassionate, dedicated, dental hygienist, determined, driven, educated, energetic, enjoying life, every day, family first, family is everything, fearless, first, focused, foremost, god fearing, god first, godfirst, grateful, happily married, hard working, humble, independent, inspired, inspiring, jeremiah 29:11, john 3:16, just ask, livin life, living the dream, long island, loving life, loving my life, loyal, male, married, mommy of 2, mother of 5, motivated, open minded, optimistic, oregon, orlando, outspoken, passionate, phil 4:13, philippians 4:13, positive, proud mommy, real, retired nurse, sarcastic, self employed, southern, taken, tampa, tennessee, thankful, usaf, utah, whodat, witty, yep, yup \\\\ \\hline\n",
      "97 & actor, actress, animator, art teacher, artist, artistic director, cartoonist, choreographer, comedian, dancer, designer, drummer, entertainer, fashion designer, film maker, filmmaker, fine artist, future teacher, graphic artist, graphic designer, herbalist, illustrator, improviser, jewelry designer, magician, mixed media artist, model, mover, music maker, musician, novelist, painter, performer, philosopher, playwright, poet, printmaker, procrastinator, producer, screenwriter, sculptor, seamstress, singer-songwriter, skateboarder, videographer, visual artist, worker \\\\ \\hline\n",
      "98 & buyers, commercial, commercial real estate, land, realtors, residential, sellers \\\\ \\hline\n",
      "99 & bike, crochet, dance, drink, garden, play, play guitar, play video games, rap, run, school, shop, ski, surf, take pictures, work, workout \\\\ \\hline\n"
     ]
    },
    {
     "data": {
      "text/html": [
       "<div>\n",
       "<style scoped>\n",
       "    .dataframe tbody tr th:only-of-type {\n",
       "        vertical-align: middle;\n",
       "    }\n",
       "\n",
       "    .dataframe tbody tr th {\n",
       "        vertical-align: top;\n",
       "    }\n",
       "\n",
       "    .dataframe thead th {\n",
       "        text-align: right;\n",
       "    }\n",
       "</style>\n",
       "<table border=\"1\" class=\"dataframe\">\n",
       "  <thead>\n",
       "    <tr style=\"text-align: right;\">\n",
       "      <th></th>\n",
       "    </tr>\n",
       "  </thead>\n",
       "  <tbody>\n",
       "  </tbody>\n",
       "</table>\n",
       "</div>"
      ],
      "text/plain": [
       "Empty DataFrame\n",
       "Columns: []\n",
       "Index: []"
      ]
     },
     "execution_count": 54,
     "metadata": {},
     "output_type": "execute_result"
    }
   ],
   "source": [
    "def print_row(c):\n",
    "    print(str(c.labs.iloc[0]) + \" & \" + \", \".join(c.ht).replace(\"&\",\"\\&\")+ \" \\\\\\\\ \\\\hline\")\n",
    "mat.groupby(\"labs\").apply(print_row)"
   ]
  }
 ],
 "metadata": {
  "kernelspec": {
   "display_name": "Python 3",
   "language": "python",
   "name": "python3"
  },
  "language_info": {
   "codemirror_mode": {
    "name": "ipython",
    "version": 3
   },
   "file_extension": ".py",
   "mimetype": "text/x-python",
   "name": "python",
   "nbconvert_exporter": "python",
   "pygments_lexer": "ipython3",
   "version": "3.8.5"
  }
 },
 "nbformat": 4,
 "nbformat_minor": 4
}
